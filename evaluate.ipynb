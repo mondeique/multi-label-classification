{
 "cells": [
  {
   "cell_type": "markdown",
   "metadata": {},
   "source": [
    "## import library"
   ]
  },
  {
   "cell_type": "code",
   "execution_count": 1,
   "metadata": {},
   "outputs": [
    {
     "name": "stderr",
     "output_type": "stream",
     "text": [
      "c:\\users\\shimd\\anaconda3\\envs\\mondeique\\lib\\site-packages\\tensorflow\\python\\framework\\dtypes.py:516: FutureWarning: Passing (type, 1) or '1type' as a synonym of type is deprecated; in a future version of numpy, it will be understood as (type, (1,)) / '(1,)type'.\n",
      "  _np_qint8 = np.dtype([(\"qint8\", np.int8, 1)])\n",
      "c:\\users\\shimd\\anaconda3\\envs\\mondeique\\lib\\site-packages\\tensorflow\\python\\framework\\dtypes.py:517: FutureWarning: Passing (type, 1) or '1type' as a synonym of type is deprecated; in a future version of numpy, it will be understood as (type, (1,)) / '(1,)type'.\n",
      "  _np_quint8 = np.dtype([(\"quint8\", np.uint8, 1)])\n",
      "c:\\users\\shimd\\anaconda3\\envs\\mondeique\\lib\\site-packages\\tensorflow\\python\\framework\\dtypes.py:518: FutureWarning: Passing (type, 1) or '1type' as a synonym of type is deprecated; in a future version of numpy, it will be understood as (type, (1,)) / '(1,)type'.\n",
      "  _np_qint16 = np.dtype([(\"qint16\", np.int16, 1)])\n",
      "c:\\users\\shimd\\anaconda3\\envs\\mondeique\\lib\\site-packages\\tensorflow\\python\\framework\\dtypes.py:519: FutureWarning: Passing (type, 1) or '1type' as a synonym of type is deprecated; in a future version of numpy, it will be understood as (type, (1,)) / '(1,)type'.\n",
      "  _np_quint16 = np.dtype([(\"quint16\", np.uint16, 1)])\n",
      "c:\\users\\shimd\\anaconda3\\envs\\mondeique\\lib\\site-packages\\tensorflow\\python\\framework\\dtypes.py:520: FutureWarning: Passing (type, 1) or '1type' as a synonym of type is deprecated; in a future version of numpy, it will be understood as (type, (1,)) / '(1,)type'.\n",
      "  _np_qint32 = np.dtype([(\"qint32\", np.int32, 1)])\n",
      "c:\\users\\shimd\\anaconda3\\envs\\mondeique\\lib\\site-packages\\tensorflow\\python\\framework\\dtypes.py:525: FutureWarning: Passing (type, 1) or '1type' as a synonym of type is deprecated; in a future version of numpy, it will be understood as (type, (1,)) / '(1,)type'.\n",
      "  np_resource = np.dtype([(\"resource\", np.ubyte, 1)])\n",
      "c:\\users\\shimd\\anaconda3\\envs\\mondeique\\lib\\site-packages\\tensorboard\\compat\\tensorflow_stub\\dtypes.py:541: FutureWarning: Passing (type, 1) or '1type' as a synonym of type is deprecated; in a future version of numpy, it will be understood as (type, (1,)) / '(1,)type'.\n",
      "  _np_qint8 = np.dtype([(\"qint8\", np.int8, 1)])\n",
      "c:\\users\\shimd\\anaconda3\\envs\\mondeique\\lib\\site-packages\\tensorboard\\compat\\tensorflow_stub\\dtypes.py:542: FutureWarning: Passing (type, 1) or '1type' as a synonym of type is deprecated; in a future version of numpy, it will be understood as (type, (1,)) / '(1,)type'.\n",
      "  _np_quint8 = np.dtype([(\"quint8\", np.uint8, 1)])\n",
      "c:\\users\\shimd\\anaconda3\\envs\\mondeique\\lib\\site-packages\\tensorboard\\compat\\tensorflow_stub\\dtypes.py:543: FutureWarning: Passing (type, 1) or '1type' as a synonym of type is deprecated; in a future version of numpy, it will be understood as (type, (1,)) / '(1,)type'.\n",
      "  _np_qint16 = np.dtype([(\"qint16\", np.int16, 1)])\n",
      "c:\\users\\shimd\\anaconda3\\envs\\mondeique\\lib\\site-packages\\tensorboard\\compat\\tensorflow_stub\\dtypes.py:544: FutureWarning: Passing (type, 1) or '1type' as a synonym of type is deprecated; in a future version of numpy, it will be understood as (type, (1,)) / '(1,)type'.\n",
      "  _np_quint16 = np.dtype([(\"quint16\", np.uint16, 1)])\n",
      "c:\\users\\shimd\\anaconda3\\envs\\mondeique\\lib\\site-packages\\tensorboard\\compat\\tensorflow_stub\\dtypes.py:545: FutureWarning: Passing (type, 1) or '1type' as a synonym of type is deprecated; in a future version of numpy, it will be understood as (type, (1,)) / '(1,)type'.\n",
      "  _np_qint32 = np.dtype([(\"qint32\", np.int32, 1)])\n",
      "c:\\users\\shimd\\anaconda3\\envs\\mondeique\\lib\\site-packages\\tensorboard\\compat\\tensorflow_stub\\dtypes.py:550: FutureWarning: Passing (type, 1) or '1type' as a synonym of type is deprecated; in a future version of numpy, it will be understood as (type, (1,)) / '(1,)type'.\n",
      "  np_resource = np.dtype([(\"resource\", np.ubyte, 1)])\n"
     ]
    }
   ],
   "source": [
    "import os\n",
    "import numpy as np\n",
    "import tensorflow as tf\n",
    "from data_loader import *\n",
    "from data_utils import *\n",
    "from model import *\n",
    "from const import *"
   ]
  },
  {
   "cell_type": "markdown",
   "metadata": {},
   "source": [
    "## prepare data"
   ]
  },
  {
   "cell_type": "code",
   "execution_count": 2,
   "metadata": {},
   "outputs": [
    {
     "name": "stdout",
     "output_type": "stream",
     "text": [
      "Reading csv................\n",
      "Load bag image...................\n",
      "Number of bag train data:  1978\n",
      "Number of bag test data:  493\n",
      "---------------------------------------------------------------\n"
     ]
    }
   ],
   "source": [
    "train_data, test_data = getBagImage()"
   ]
  },
  {
   "cell_type": "code",
   "execution_count": 3,
   "metadata": {},
   "outputs": [],
   "source": [
    "def one_hot(index, num_classes):\n",
    "    tmp = np.zeros(num_classes, dtype=np.float32)\n",
    "    tmp[index] = 1.0\n",
    "    return tmp"
   ]
  },
  {
   "cell_type": "markdown",
   "metadata": {},
   "source": [
    "# main evaluation code"
   ]
  },
  {
   "cell_type": "markdown",
   "metadata": {},
   "source": [
    "## input tensor + model network"
   ]
  },
  {
   "cell_type": "code",
   "execution_count": 4,
   "metadata": {
    "scrolled": true
   },
   "outputs": [
    {
     "name": "stderr",
     "output_type": "stream",
     "text": [
      "WARNING: Logging before flag parsing goes to stderr.\n",
      "W0820 11:08:56.639716 10012 deprecation_wrapper.py:119] From C:\\Users\\shimd\\Desktop\\multi-label-classification\\model.py:7: The name tf.placeholder is deprecated. Please use tf.compat.v1.placeholder instead.\n",
      "\n",
      "W0820 11:08:56.647415 10012 deprecation_wrapper.py:119] From C:\\Users\\shimd\\Desktop\\multi-label-classification\\ops.py:253: The name tf.variable_scope is deprecated. Please use tf.compat.v1.variable_scope instead.\n",
      "\n",
      "W0820 11:08:56.648443 10012 deprecation_wrapper.py:119] From C:\\Users\\shimd\\Desktop\\multi-label-classification\\ops.py:141: The name tf.get_variable is deprecated. Please use tf.compat.v1.get_variable instead.\n",
      "\n",
      "W0820 11:08:56.737197 10012 deprecation_wrapper.py:119] From C:\\Users\\shimd\\Desktop\\multi-label-classification\\ops.py:205: The name tf.nn.max_pool is deprecated. Please use tf.nn.max_pool2d instead.\n",
      "\n",
      "W0820 11:08:57.012254 10012 deprecation_wrapper.py:119] From C:\\Users\\shimd\\Desktop\\multi-label-classification\\ops.py:181: The name tf.nn.xw_plus_b is deprecated. Please use tf.compat.v1.nn.xw_plus_b instead.\n",
      "\n",
      "W0820 11:08:57.017268 10012 deprecation.py:506] From C:\\Users\\shimd\\Desktop\\multi-label-classification\\ops.py:191: calling dropout (from tensorflow.python.ops.nn_ops) with keep_prob is deprecated and will be removed in a future version.\n",
      "Instructions for updating:\n",
      "Please use `rate` instead of `keep_prob`. Rate should be set to `rate = 1 - keep_prob`.\n"
     ]
    }
   ],
   "source": [
    "sess = tf.InteractiveSession()\n",
    "x, y, mask = input_tensor()\n",
    "\n",
    "y_color_conv, y_shape_conv, y_opening_conv, y_strap_conv, y_pattern_conv, y_carrying_conv, y_charm_conv, y_decoration_conv, is_training, keep_prob = multi_label_net(x)"
   ]
  },
  {
   "cell_type": "markdown",
   "metadata": {},
   "source": [
    "## loss + mask"
   ]
  },
  {
   "cell_type": "code",
   "execution_count": 5,
   "metadata": {},
   "outputs": [
    {
     "name": "stderr",
     "output_type": "stream",
     "text": [
      "W0820 11:09:11.213903 10012 deprecation_wrapper.py:119] From C:\\Users\\shimd\\Desktop\\multi-label-classification\\model.py:94: The name tf.add_to_collection is deprecated. Please use tf.compat.v1.add_to_collection instead.\n",
      "\n",
      "W0820 11:09:11.225872 10012 deprecation_wrapper.py:119] From C:\\Users\\shimd\\Desktop\\multi-label-classification\\model.py:122: The name tf.log is deprecated. Please use tf.math.log instead.\n",
      "\n",
      "W0820 11:09:11.607488 10012 deprecation.py:323] From c:\\users\\shimd\\anaconda3\\envs\\mondeique\\lib\\site-packages\\tensorflow\\python\\training\\saver.py:1276: checkpoint_exists (from tensorflow.python.training.checkpoint_management) is deprecated and will be removed in a future version.\n",
      "Instructions for updating:\n",
      "Use standard file APIs to check for files with this prefix.\n"
     ]
    },
    {
     "name": "stdout",
     "output_type": "stream",
     "text": [
      "Restore model\n",
      "OK\n"
     ]
    }
   ],
   "source": [
    "color_loss, shape_loss, opening_loss, strap_loss, pattern_loss, carrying_loss, charm_loss, decoration_loss, l2_loss, total_loss = selective_loss(y_color_conv, y_shape_conv, y_opening_conv, y_strap_conv, y_pattern_conv, y_carrying_conv, y_charm_conv, y_decoration_conv,y, mask)\n",
    "\n",
    "color_mask = tf.get_collection('color_mask')[0]\n",
    "shape_mask = tf.get_collection('shape_mask')[0]\n",
    "opening_mask = tf.get_collection('opening_mask')[0]\n",
    "strap_mask = tf.get_collection('strap_mask')[0]\n",
    "pattern_mask = tf.get_collection('pattern_mask')[0]\n",
    "carrying_mask = tf.get_collection('carrying_mask')[0]\n",
    "charm_mask = tf.get_collection('charm_mask')[0]\n",
    "decoration_mask = tf.get_collection('decoration_mask')[0]\n",
    "\n",
    "y_color = tf.get_collection('y_color')[0]\n",
    "y_shape = tf.get_collection('y_shape')[0]\n",
    "y_opening = tf.get_collection('y_opening')[0]\n",
    "y_strap = tf.get_collection('y_strap')[0]\n",
    "y_pattern = tf.get_collection('y_pattern')[0]\n",
    "y_carrying = tf.get_collection('y_carrying')[0]\n",
    "y_charm = tf.get_collection('y_charm')[0]\n",
    "y_decoration = tf.get_collection('y_decoration')[0]\n",
    "\n",
    "color_correct_prediction = tf.equal(tf.argmax(y_color_conv, 1), tf.argmax(y_color, 1))\n",
    "shape_correct_prediction = tf.equal(tf.argmax(y_shape_conv, 1), tf.argmax(y_shape, 1))\n",
    "opening_correct_prediction = tf.equal(tf.argmax(y_opening_conv, 1), tf.argmax(y_opening, 1))\n",
    "strap_correct_prediction = tf.equal(tf.argmax(y_strap_conv, 1), tf.argmax(y_strap, 1))\n",
    "pattern_correct_prediction = tf.equal(tf.argmax(y_pattern_conv, 1), tf.argmax(y_pattern, 1))\n",
    "carrying_correct_prediction = tf.equal(tf.argmax(y_carrying_conv, 1), tf.argmax(y_carrying, 1))\n",
    "charm_correct_prediction = tf.equal(tf.argmax(y_charm_conv, 1), tf.argmax(y_charm, 1))\n",
    "decoration_correct_prediction = tf.equal(tf.argmax(y_decoration_conv, 1), tf.argmax(y_decoration, 1))\n",
    "\n",
    "color_true_pred = tf.reduce_sum(tf.cast(color_correct_prediction, dtype=tf.float32) * color_mask)\n",
    "shape_true_pred = tf.reduce_sum(tf.cast(shape_correct_prediction, dtype=tf.float32) * shape_mask)\n",
    "opening_true_pred = tf.reduce_sum(tf.cast(opening_correct_prediction, dtype=tf.float32) * opening_mask)\n",
    "strap_true_pred = tf.reduce_sum(tf.cast(strap_correct_prediction, dtype=tf.float32) * strap_mask)\n",
    "pattern_true_pred = tf.reduce_sum(tf.cast(pattern_correct_prediction, dtype=tf.float32) * pattern_mask)\n",
    "carrying_true_pred = tf.reduce_sum(tf.cast(carrying_correct_prediction, dtype=tf.float32) * carrying_mask)\n",
    "charm_true_pred = tf.reduce_sum(tf.cast(charm_correct_prediction, dtype=tf.float32) * charm_mask)\n",
    "decoration_true_pred = tf.reduce_sum(tf.cast(decoration_correct_prediction, dtype=tf.float32) * decoration_mask)\n",
    "\n",
    "real_test_data = []\n",
    "\n",
    "# Mask : color -> 0 , shape -> 1, opening -> 2, strap -> 3, pattern -> 4, carrying -> 5, charm -> 6, decoration -> 7\n",
    "for i in range(len(test_data)):\n",
    "    img = (test_data[i][0] - 128) / 255.0\n",
    "    label = test_data[i][1]\n",
    "    real_test_data.append((img, one_hot(label[i][0], 16), 0.0))\n",
    "for i in range(len(test_data)):\n",
    "    img = (test_data[i][0] - 128) / 255.0\n",
    "    label = test_data[i][1]\n",
    "    real_test_data.append((img, one_hot(label[i][1], 16), 1.0))\n",
    "for i in range(len(test_data)):\n",
    "    img = (test_data[i][0] - 128) / 255.0\n",
    "    label = test_data[i][1]\n",
    "    real_test_data.append((img, one_hot(label[i][2], 16), 2.0))\n",
    "for i in range(len(test_data)):\n",
    "    img = (test_data[i][0] - 128) / 255.0\n",
    "    label = test_data[i][1]\n",
    "    real_test_data.append((img, one_hot(label[i][3], 16), 3.0))\n",
    "for i in range(len(test_data)):\n",
    "    img = (test_data[i][0] - 128) / 255.0\n",
    "    label = test_data[i][1]\n",
    "    real_test_data.append((img, one_hot(label[i][4], 16), 4.0))\n",
    "for i in range(len(test_data)):\n",
    "    img = (test_data[i][0] - 128) / 255.0\n",
    "    label = test_data[i][1]\n",
    "    real_test_data.append((img, one_hot(label[i][5], 16), 5.0))\n",
    "for i in range(len(test_data)):\n",
    "    img = (test_data[i][0] - 128) / 255.0\n",
    "    label = test_data[i][1]\n",
    "    real_test_data.append((img, one_hot(label[i][6], 16), 6.0))\n",
    "for i in range(len(test_data)):\n",
    "    img = (test_data[i][0] - 128) / 255.0\n",
    "    label = test_data[i][1]\n",
    "    real_test_data.append((img, one_hot(label[i][7], 16), 7.0))\n",
    "\n",
    "np.random.shuffle(real_test_data)\n",
    "\n",
    "print('Restore model')\n",
    "saver = tf.train.Saver()\n",
    "saver.restore(sess, './save/current3/model_v3_3.ckpt')\n",
    "print('OK')"
   ]
  },
  {
   "cell_type": "code",
   "execution_count": 6,
   "metadata": {},
   "outputs": [
    {
     "name": "stdout",
     "output_type": "stream",
     "text": [
      "\n",
      "\n",
      "color task train accuracy: 86.1788617886179\n",
      "shape task train accuracy: 94.32048681541582\n",
      "opening task train accuracy: 31.910569105691057\n",
      "strap task train accuracy: 86.00405679513185\n",
      "pattern task train accuracy: 66.05316973415133\n",
      "carrying task train accuracy: 92.69776876267748\n",
      "charm task train accuracy: 92.47967479674797\n",
      "decoration task train accuracy: 96.7479674796748\n"
     ]
    }
   ],
   "source": [
    "train_img = []\n",
    "train_label = []\n",
    "train_mask = []\n",
    "\n",
    "for i in range(len(real_test_data)):\n",
    "    train_img.append(real_test_data[i][0])\n",
    "    train_label.append(real_test_data[i][1])\n",
    "    train_mask.append(real_test_data[i][2])\n",
    "\n",
    "number_batch = len(real_test_data) // BATCH_SIZE\n",
    "\n",
    "color_nb_true_pred = 0\n",
    "shape_nb_true_pred = 0\n",
    "opening_nb_true_pred = 0\n",
    "strap_nb_true_pred = 0\n",
    "pattern_nb_true_pred = 0\n",
    "carrying_nb_true_pred = 0\n",
    "charm_nb_true_pred = 0\n",
    "decoration_nb_true_pred = 0\n",
    "\n",
    "color_nb_train = 0\n",
    "shape_nb_train = 0\n",
    "opening_nb_train = 0\n",
    "strap_nb_train = 0\n",
    "pattern_nb_train = 0\n",
    "carrying_nb_train = 0\n",
    "charm_nb_train = 0\n",
    "decoration_nb_train = 0\n",
    "\n",
    "for batch in range(number_batch):\n",
    "    # print('Training on batch {0}/{1}'.format(str(batch + 1), str(number_batch)))\n",
    "    top = batch * BATCH_SIZE\n",
    "    bot = min((batch + 1) * BATCH_SIZE, len(real_test_data))\n",
    "    batch_img = np.asarray(train_img[top:bot])\n",
    "    batch_label = np.asarray(train_label[top:bot])\n",
    "    batch_mask = np.asarray(train_mask[top:bot])\n",
    "    \n",
    "    batch_img = augmentation(batch_img, 64)\n",
    "\n",
    "    for i in range(BATCH_SIZE):\n",
    "        if batch_mask[i] == 0.0:\n",
    "            color_nb_train += 1\n",
    "        else:\n",
    "            if batch_mask[i] == 1.0:\n",
    "                shape_nb_train += 1\n",
    "            else:\n",
    "                if batch_mask[i] == 2.0:\n",
    "                    opening_nb_train += 1\n",
    "                else:\n",
    "                    if batch_mask[i] == 3.0:\n",
    "                        strap_nb_train += 1\n",
    "                    else:\n",
    "                        if batch_mask[i] == 4.0:\n",
    "                            pattern_nb_train += 1\n",
    "                        else:\n",
    "                            if batch_mask[i] == 5.0:\n",
    "                                carrying_nb_train += 1\n",
    "                            else:\n",
    "                                if batch_mask[i] == 6.0:\n",
    "                                    charm_nb_train += 1\n",
    "                                else:\n",
    "                                    decoration_nb_train +=1\n",
    "\n",
    "      \n",
    "\n",
    "    color_nb_true_pred += sess.run(color_true_pred, feed_dict={x: batch_img, y: batch_label, mask: batch_mask,\n",
    "                                                               is_training: False,keep_prob: 1})\n",
    "\n",
    "    shape_nb_true_pred += sess.run(shape_true_pred, feed_dict={x: batch_img, y: batch_label, mask: batch_mask,\n",
    "                                                               is_training: False, keep_prob: 1})\n",
    "\n",
    "    opening_nb_true_pred += sess.run(opening_true_pred, feed_dict={x: batch_img, y: batch_label, mask: batch_mask,\n",
    "                                                                   is_training: False, keep_prob: 1})\n",
    "\n",
    "    strap_nb_true_pred += sess.run(strap_true_pred, feed_dict={x: batch_img, y: batch_label, mask: batch_mask,\n",
    "                                                               is_training: False, keep_prob: 1})\n",
    "\n",
    "    pattern_nb_true_pred += sess.run(pattern_true_pred, feed_dict={x: batch_img, y: batch_label, mask: batch_mask,\n",
    "                                                                   is_training: False, keep_prob: 1})\n",
    "\n",
    "    carrying_nb_true_pred += sess.run(carrying_true_pred, feed_dict={x: batch_img, y: batch_label, mask: batch_mask,\n",
    "                                                                     is_training: False, keep_prob: 1})\n",
    "\n",
    "    charm_nb_true_pred += sess.run(charm_true_pred, feed_dict={x: batch_img, y: batch_label, mask: batch_mask,\n",
    "                                                                     is_training: False, keep_prob:1})\n",
    "\n",
    "    decoration_nb_true_pred += sess.run(decoration_true_pred, feed_dict={x: batch_img, y: batch_label, mask: batch_mask,\n",
    "                                                                     is_training: False, keep_prob: 1})\n",
    "\n",
    "#     sess.run(update_op,feed_dict={x: batch_img, y_: batch_label, mask: batch_mask, is_training: False, keep_prob: 1})\n",
    "\n",
    "\n",
    "\n",
    "color_train_accuracy = color_nb_true_pred * 1.0 / color_nb_train\n",
    "shape_train_accuracy = shape_nb_true_pred * 1.0 / shape_nb_train\n",
    "opening_train_accuracy = opening_nb_true_pred * 1.0 / opening_nb_train\n",
    "strap_train_accuracy = strap_nb_true_pred * 1.0 / strap_nb_train\n",
    "pattern_train_accuracy = pattern_nb_true_pred * 1.0 / pattern_nb_train\n",
    "carrying_train_accuracy = carrying_nb_true_pred * 1.0 / carrying_nb_train\n",
    "charm_train_accuracy = charm_nb_true_pred * 1.0 / charm_nb_train\n",
    "decoration_train_accuracy = decoration_nb_true_pred * 1.0 / decoration_nb_train\n",
    "\n",
    "print('\\n')\n",
    "print('color task train accuracy: ' + str(color_train_accuracy * 100))\n",
    "print('shape task train accuracy: ' + str(shape_train_accuracy * 100))\n",
    "print('opening task train accuracy: ' + str(opening_train_accuracy * 100))\n",
    "print('strap task train accuracy: ' + str(strap_train_accuracy * 100))\n",
    "print('pattern task train accuracy: ' + str(pattern_train_accuracy * 100))\n",
    "print('carrying task train accuracy: ' + str(carrying_train_accuracy * 100))\n",
    "print('charm task train accuracy: ' + str(charm_train_accuracy * 100))\n",
    "print('decoration task train accuracy: ' + str(decoration_train_accuracy * 100))"
   ]
  }
 ],
 "metadata": {
  "kernelspec": {
   "display_name": "Python 3",
   "language": "python",
   "name": "python3"
  },
  "language_info": {
   "codemirror_mode": {
    "name": "ipython",
    "version": 3
   },
   "file_extension": ".py",
   "mimetype": "text/x-python",
   "name": "python",
   "nbconvert_exporter": "python",
   "pygments_lexer": "ipython3",
   "version": "3.7.3"
  }
 },
 "nbformat": 4,
 "nbformat_minor": 2
}
